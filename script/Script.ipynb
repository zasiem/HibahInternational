{
 "cells": [
  {
   "cell_type": "markdown",
   "metadata": {},
   "source": [
    "### Open File"
   ]
  },
  {
   "cell_type": "code",
   "execution_count": 1,
   "metadata": {},
   "outputs": [],
   "source": [
    "import os\n",
    "import pandas as pd\n",
    "import re\n",
    "pd.set_option('display.max_rows', None)"
   ]
  },
  {
   "cell_type": "code",
   "execution_count": 2,
   "metadata": {},
   "outputs": [],
   "source": [
    "os.chdir('.\\\\data\\\\data')"
   ]
  },
  {
   "cell_type": "code",
   "execution_count": 3,
   "metadata": {},
   "outputs": [],
   "source": [
    "commit = pd.read_csv(\"xplore malang.csv\")"
   ]
  },
  {
   "cell_type": "code",
   "execution_count": 4,
   "metadata": {},
   "outputs": [],
   "source": [
    "os.chdir('..\\\\xplore-issues')"
   ]
  },
  {
   "cell_type": "code",
   "execution_count": 5,
   "metadata": {},
   "outputs": [],
   "source": [
    "issues = pd.read_csv(\"xplore-issues.csv\")\n",
    "logs = pd.read_csv(\"xplore-logs.csv\")"
   ]
  },
  {
   "cell_type": "markdown",
   "metadata": {},
   "source": [
    "### Log content"
   ]
  },
  {
   "cell_type": "code",
   "execution_count": 6,
   "metadata": {},
   "outputs": [
    {
     "data": {
      "text/html": [
       "<div>\n",
       "<style scoped>\n",
       "    .dataframe tbody tr th:only-of-type {\n",
       "        vertical-align: middle;\n",
       "    }\n",
       "\n",
       "    .dataframe tbody tr th {\n",
       "        vertical-align: top;\n",
       "    }\n",
       "\n",
       "    .dataframe thead th {\n",
       "        text-align: right;\n",
       "    }\n",
       "</style>\n",
       "<table border=\"1\" class=\"dataframe\">\n",
       "  <thead>\n",
       "    <tr style=\"text-align: right;\">\n",
       "      <th></th>\n",
       "      <th>Author</th>\n",
       "      <th>Commit</th>\n",
       "      <th>Message</th>\n",
       "      <th>Date</th>\n",
       "    </tr>\n",
       "  </thead>\n",
       "  <tbody>\n",
       "    <tr>\n",
       "      <td>0</td>\n",
       "      <td>Hanif Ramadhan</td>\n",
       "      <td>2681e9b</td>\n",
       "      <td>Final</td>\n",
       "      <td>4/29/2019</td>\n",
       "    </tr>\n",
       "    <tr>\n",
       "      <td>1</td>\n",
       "      <td>dennis cunong</td>\n",
       "      <td>3d514ee</td>\n",
       "      <td>Rotate Landscape Feed</td>\n",
       "      <td>4/26/2019</td>\n",
       "    </tr>\n",
       "    <tr>\n",
       "      <td>2</td>\n",
       "      <td>Ilham Satria</td>\n",
       "      <td>5cbeff8</td>\n",
       "      <td>Rotate Landscape Home</td>\n",
       "      <td>4/26/2019</td>\n",
       "    </tr>\n",
       "    <tr>\n",
       "      <td>3</td>\n",
       "      <td>aprilia widyas</td>\n",
       "      <td>16ce644</td>\n",
       "      <td>intent setting</td>\n",
       "      <td>4/26/2019</td>\n",
       "    </tr>\n",
       "    <tr>\n",
       "      <td>4</td>\n",
       "      <td>Hanif Ramadhan</td>\n",
       "      <td>cf73c41</td>\n",
       "      <td>Merapihkan Kodingan</td>\n",
       "      <td>4/26/2019</td>\n",
       "    </tr>\n",
       "  </tbody>\n",
       "</table>\n",
       "</div>"
      ],
      "text/plain": [
       "           Author   Commit                Message       Date\n",
       "0  Hanif Ramadhan  2681e9b                  Final  4/29/2019\n",
       "1   dennis cunong  3d514ee  Rotate Landscape Feed  4/26/2019\n",
       "2    Ilham Satria  5cbeff8  Rotate Landscape Home  4/26/2019\n",
       "3  aprilia widyas  16ce644         intent setting  4/26/2019\n",
       "4  Hanif Ramadhan  cf73c41    Merapihkan Kodingan  4/26/2019"
      ]
     },
     "execution_count": 6,
     "metadata": {},
     "output_type": "execute_result"
    }
   ],
   "source": [
    "commit.head()"
   ]
  },
  {
   "cell_type": "code",
   "execution_count": 7,
   "metadata": {},
   "outputs": [
    {
     "data": {
      "text/html": [
       "<div>\n",
       "<style scoped>\n",
       "    .dataframe tbody tr th:only-of-type {\n",
       "        vertical-align: middle;\n",
       "    }\n",
       "\n",
       "    .dataframe tbody tr th {\n",
       "        vertical-align: top;\n",
       "    }\n",
       "\n",
       "    .dataframe thead th {\n",
       "        text-align: right;\n",
       "    }\n",
       "</style>\n",
       "<table border=\"1\" class=\"dataframe\">\n",
       "  <thead>\n",
       "    <tr style=\"text-align: right;\">\n",
       "      <th></th>\n",
       "      <th>status</th>\n",
       "      <th>issue</th>\n",
       "      <th>title</th>\n",
       "      <th>date</th>\n",
       "      <th>assignee</th>\n",
       "    </tr>\n",
       "  </thead>\n",
       "  <tbody>\n",
       "    <tr>\n",
       "      <td>0</td>\n",
       "      <td>closed</td>\n",
       "      <td>61</td>\n",
       "      <td>[3][4] Membuat back end dari fitur Profil</td>\n",
       "      <td>2019-04-09T03:09:05.998785+00:00</td>\n",
       "      <td>aulia ikhsanati</td>\n",
       "    </tr>\n",
       "    <tr>\n",
       "      <td>1</td>\n",
       "      <td>closed</td>\n",
       "      <td>63</td>\n",
       "      <td>[3][7] Membuat front end dari kategori Transpo...</td>\n",
       "      <td>2019-04-09T03:16:33.782299+00:00</td>\n",
       "      <td>aulia ikhsanati</td>\n",
       "    </tr>\n",
       "    <tr>\n",
       "      <td>2</td>\n",
       "      <td>closed</td>\n",
       "      <td>64</td>\n",
       "      <td>[3][8] Membuat back end dari fitur Transportasi</td>\n",
       "      <td>2019-04-21T09:11:21.552223+00:00</td>\n",
       "      <td>Rizka Fadhilah</td>\n",
       "    </tr>\n",
       "    <tr>\n",
       "      <td>3</td>\n",
       "      <td>closed</td>\n",
       "      <td>67</td>\n",
       "      <td>[3][10] Membuat back end dari fitur Filter</td>\n",
       "      <td>2019-04-30T03:29:32.737889+00:00</td>\n",
       "      <td>Hanif Ramadhan</td>\n",
       "    </tr>\n",
       "    <tr>\n",
       "      <td>4</td>\n",
       "      <td>closed</td>\n",
       "      <td>66</td>\n",
       "      <td>[3][9] Membuat front end dari fitur Filter</td>\n",
       "      <td>2019-04-30T03:27:48.782392+00:00</td>\n",
       "      <td>Ilham Satria</td>\n",
       "    </tr>\n",
       "  </tbody>\n",
       "</table>\n",
       "</div>"
      ],
      "text/plain": [
       "   status  issue                                              title  \\\n",
       "0  closed     61          [3][4] Membuat back end dari fitur Profil   \n",
       "1  closed     63  [3][7] Membuat front end dari kategori Transpo...   \n",
       "2  closed     64    [3][8] Membuat back end dari fitur Transportasi   \n",
       "3  closed     67         [3][10] Membuat back end dari fitur Filter   \n",
       "4  closed     66         [3][9] Membuat front end dari fitur Filter   \n",
       "\n",
       "                               date         assignee  \n",
       "0  2019-04-09T03:09:05.998785+00:00  aulia ikhsanati  \n",
       "1  2019-04-09T03:16:33.782299+00:00  aulia ikhsanati  \n",
       "2  2019-04-21T09:11:21.552223+00:00   Rizka Fadhilah  \n",
       "3  2019-04-30T03:29:32.737889+00:00   Hanif Ramadhan  \n",
       "4  2019-04-30T03:27:48.782392+00:00     Ilham Satria  "
      ]
     },
     "execution_count": 7,
     "metadata": {},
     "output_type": "execute_result"
    }
   ],
   "source": [
    "issues.head()"
   ]
  },
  {
   "cell_type": "code",
   "execution_count": 8,
   "metadata": {},
   "outputs": [
    {
     "data": {
      "text/html": [
       "<div>\n",
       "<style scoped>\n",
       "    .dataframe tbody tr th:only-of-type {\n",
       "        vertical-align: middle;\n",
       "    }\n",
       "\n",
       "    .dataframe tbody tr th {\n",
       "        vertical-align: top;\n",
       "    }\n",
       "\n",
       "    .dataframe thead th {\n",
       "        text-align: right;\n",
       "    }\n",
       "</style>\n",
       "<table border=\"1\" class=\"dataframe\">\n",
       "  <thead>\n",
       "    <tr style=\"text-align: right;\">\n",
       "      <th></th>\n",
       "      <th>issue</th>\n",
       "      <th>status</th>\n",
       "      <th>from</th>\n",
       "      <th>user</th>\n",
       "      <th>date</th>\n",
       "    </tr>\n",
       "  </thead>\n",
       "  <tbody>\n",
       "    <tr>\n",
       "      <td>0</td>\n",
       "      <td>4</td>\n",
       "      <td>resolved</td>\n",
       "      <td>new</td>\n",
       "      <td>Rizka Fadhilah</td>\n",
       "      <td>2019-02-25T03:30:06.239858+00:00</td>\n",
       "    </tr>\n",
       "    <tr>\n",
       "      <td>1</td>\n",
       "      <td>6</td>\n",
       "      <td>resolved</td>\n",
       "      <td>new</td>\n",
       "      <td>aprilia widyas</td>\n",
       "      <td>2019-02-25T10:10:47.328461+00:00</td>\n",
       "    </tr>\n",
       "    <tr>\n",
       "      <td>2</td>\n",
       "      <td>5</td>\n",
       "      <td>resolved</td>\n",
       "      <td>new</td>\n",
       "      <td>aprilia widyas</td>\n",
       "      <td>2019-02-25T12:26:12.251917+00:00</td>\n",
       "    </tr>\n",
       "    <tr>\n",
       "      <td>3</td>\n",
       "      <td>13</td>\n",
       "      <td>resolved</td>\n",
       "      <td>new</td>\n",
       "      <td>aprilia widyas</td>\n",
       "      <td>2019-03-03T17:51:50.514957+00:00</td>\n",
       "    </tr>\n",
       "    <tr>\n",
       "      <td>4</td>\n",
       "      <td>8</td>\n",
       "      <td>closed</td>\n",
       "      <td>new</td>\n",
       "      <td>ekky novriza alam</td>\n",
       "      <td>2019-03-19T04:15:47.211468+00:00</td>\n",
       "    </tr>\n",
       "  </tbody>\n",
       "</table>\n",
       "</div>"
      ],
      "text/plain": [
       "   issue    status from               user                              date\n",
       "0      4  resolved  new     Rizka Fadhilah  2019-02-25T03:30:06.239858+00:00\n",
       "1      6  resolved  new     aprilia widyas  2019-02-25T10:10:47.328461+00:00\n",
       "2      5  resolved  new     aprilia widyas  2019-02-25T12:26:12.251917+00:00\n",
       "3     13  resolved  new     aprilia widyas  2019-03-03T17:51:50.514957+00:00\n",
       "4      8    closed  new  ekky novriza alam  2019-03-19T04:15:47.211468+00:00"
      ]
     },
     "execution_count": 8,
     "metadata": {},
     "output_type": "execute_result"
    }
   ],
   "source": [
    "logs.head()"
   ]
  },
  {
   "cell_type": "markdown",
   "metadata": {},
   "source": [
    "### Declare Final Frame"
   ]
  },
  {
   "cell_type": "code",
   "execution_count": 9,
   "metadata": {},
   "outputs": [],
   "source": [
    "finalFrame = pd.DataFrame(columns = ['Case ID', 'Timestamp', 'Activity', 'Resource'])"
   ]
  },
  {
   "cell_type": "markdown",
   "metadata": {},
   "source": [
    "### Open Issue"
   ]
  },
  {
   "cell_type": "code",
   "execution_count": 10,
   "metadata": {},
   "outputs": [],
   "source": [
    "openissue = [0] * len(issues['issue'])\n",
    "for items in openissue:\n",
    "    openissue[openissue.index(items)] = \"Open\""
   ]
  },
  {
   "cell_type": "code",
   "execution_count": 11,
   "metadata": {},
   "outputs": [],
   "source": [
    "openissue = pd.DataFrame({'Case ID': issues['issue'],'Timestamp': issues['date'],'Activity': openissue, 'Resource': issues['assignee']})\n",
    "finalFrame = finalFrame.append(openissue)"
   ]
  },
  {
   "cell_type": "code",
   "execution_count": 12,
   "metadata": {},
   "outputs": [],
   "source": [
    "finalFrame['Timestamp'] = pd.to_datetime(finalFrame['Timestamp'])"
   ]
  },
  {
   "cell_type": "markdown",
   "metadata": {},
   "source": [
    "### Log Issue"
   ]
  },
  {
   "cell_type": "code",
   "execution_count": 13,
   "metadata": {
    "scrolled": true
   },
   "outputs": [],
   "source": [
    "logsact = []\n",
    "for items in logs['status']:\n",
    "    logsact.append(items.capitalize())"
   ]
  },
  {
   "cell_type": "code",
   "execution_count": 14,
   "metadata": {},
   "outputs": [],
   "source": [
    "logissue = pd.DataFrame({'Case ID': logs['issue'],'Timestamp': logs['date'],'Activity': logsact, 'Resource': logs['user']})\n",
    "finalFrame = finalFrame.append(logissue)"
   ]
  },
  {
   "cell_type": "markdown",
   "metadata": {},
   "source": [
    "### Commit dengan issue reference"
   ]
  },
  {
   "cell_type": "code",
   "execution_count": 15,
   "metadata": {},
   "outputs": [],
   "source": [
    "commit['Date'] = pd.to_datetime(commit['Date'])"
   ]
  },
  {
   "cell_type": "markdown",
   "metadata": {},
   "source": [
    "#### menambahkan no. issue ke list"
   ]
  },
  {
   "cell_type": "code",
   "execution_count": 16,
   "metadata": {},
   "outputs": [],
   "source": [
    "commitMessage = commit['Message']\n",
    "knownCommit = [0] * len(commitMessage)\n",
    "for items in commitMessage:\n",
    "    if(re.findall(\"#[\\d]\", items)):\n",
    "        hsh = re.sub(\"[^#\\d]\", \"\", items)\n",
    "        hsh = re.sub(\"#\", \"\", hsh)\n",
    "        knownCommit[list(commitMessage).index(items)] = hsh"
   ]
  },
  {
   "cell_type": "markdown",
   "metadata": {},
   "source": [
    "### Commit tanpa issue reference"
   ]
  },
  {
   "cell_type": "code",
   "execution_count": 17,
   "metadata": {},
   "outputs": [],
   "source": [
    "unknownCommit = []\n",
    "for items in commitMessage:\n",
    "    if(not re.findall(\"[(#\\d)]\", items)):\n",
    "        unknownCommit.append(items)\n",
    "    else:\n",
    "        unknownCommit.append('null')\n",
    "        "
   ]
  },
  {
   "cell_type": "code",
   "execution_count": 18,
   "metadata": {},
   "outputs": [],
   "source": [
    "issueList = issues['title']\n",
    "issueId = issues['issue']\n",
    "issueList = [re.sub('[\\[\\]\\d]', '', x) for x in issueList]\n",
    "issueList = [x.strip() for x in issueList]"
   ]
  },
  {
   "cell_type": "markdown",
   "metadata": {},
   "source": [
    "### Case Folding"
   ]
  },
  {
   "cell_type": "code",
   "execution_count": 19,
   "metadata": {},
   "outputs": [],
   "source": [
    "unknownCommit = [x.lower() for x in unknownCommit]\n",
    "issueList = [x.lower() for x in issueList]"
   ]
  },
  {
   "cell_type": "markdown",
   "metadata": {},
   "source": [
    "### Stopwords Removal"
   ]
  },
  {
   "cell_type": "code",
   "execution_count": 20,
   "metadata": {},
   "outputs": [],
   "source": [
    "from Sastrawi.StopWordRemover.StopWordRemoverFactory import StopWordRemoverFactory\n",
    " \n",
    "factory = StopWordRemoverFactory()\n",
    "stopword = factory.create_stop_word_remover()\n",
    "\n",
    "unknownCommit = [stopword.remove(x) for x in unknownCommit]"
   ]
  },
  {
   "cell_type": "code",
   "execution_count": 21,
   "metadata": {},
   "outputs": [],
   "source": [
    "issueList = [stopword.remove(x) for x in issueList]"
   ]
  },
  {
   "cell_type": "markdown",
   "metadata": {},
   "source": [
    "### URL Removal"
   ]
  },
  {
   "cell_type": "code",
   "execution_count": 22,
   "metadata": {},
   "outputs": [],
   "source": [
    "unknownCommit = [re.sub(r'^https?:\\/\\/.*[\\r\\n]*', '', x, flags=re.MULTILINE) for x in unknownCommit]\n",
    "unknownCommit = ['merge' if re.findall('^m ', x) else x for x in unknownCommit]"
   ]
  },
  {
   "cell_type": "markdown",
   "metadata": {},
   "source": [
    "### Cleaning"
   ]
  },
  {
   "cell_type": "code",
   "execution_count": 23,
   "metadata": {},
   "outputs": [],
   "source": [
    "unknownCommit = [x.replace(\"front-end\",\"front end\") for x in unknownCommit]\n",
    "unknownCommit = [x.replace(\"frontend\",\"front end\") for x in unknownCommit]\n",
    "unknownCommit = [x.replace(\"back-end\",\"back end\") for x in unknownCommit]\n",
    "unknownCommit = [x.replace(\"backend\",\"back end\") for x in unknownCommit]"
   ]
  },
  {
   "cell_type": "code",
   "execution_count": 24,
   "metadata": {},
   "outputs": [],
   "source": [
    "issueList = [x.replace(\"front-end\",\"front end\") for x in issueList]\n",
    "issueList = [x.replace(\"frontend\",\"front end\") for x in issueList]\n",
    "issueList = [x.replace(\"back-end\",\"back end\") for x in issueList]\n",
    "issueList = [x.replace(\"backend\",\"back end\") for x in issueList]"
   ]
  },
  {
   "cell_type": "markdown",
   "metadata": {},
   "source": [
    "### Compare commit dengan issue"
   ]
  },
  {
   "cell_type": "code",
   "execution_count": 25,
   "metadata": {},
   "outputs": [],
   "source": [
    "unknownId = [0] * len(unknownCommit)\n",
    "for items in unknownCommit:\n",
    "    for issue in issueList:\n",
    "        if items in issue:\n",
    "            unknownId[unknownCommit.index(items)] = issueId[issueList.index(issue)]"
   ]
  },
  {
   "cell_type": "markdown",
   "metadata": {},
   "source": [
    "#### menambahkan no. issue ke list"
   ]
  },
  {
   "cell_type": "code",
   "execution_count": 26,
   "metadata": {},
   "outputs": [],
   "source": [
    "for items in knownCommit:\n",
    "    if items == 0:\n",
    "        knownCommit[knownCommit.index(items)] = unknownId[knownCommit.index(items)]"
   ]
  },
  {
   "cell_type": "markdown",
   "metadata": {},
   "source": [
    "### Merge dataset"
   ]
  },
  {
   "cell_type": "code",
   "execution_count": 27,
   "metadata": {},
   "outputs": [],
   "source": [
    "commitMsg = [0] * len(commit['Message'])\n",
    "for items in list(commit['Message']):\n",
    "    if \"merge\" in items.lower():\n",
    "        commitMsg[list(commit['Message']).index(items)] = \"Merge Branch\"\n",
    "    elif \"test\" in items.lower():\n",
    "        commitMsg[list(commit['Message']).index(items)] = \"Testing\"\n",
    "    else:\n",
    "        commitMsg[list(commit['Message']).index(items)] = \"Implement task\"\n",
    "        "
   ]
  },
  {
   "cell_type": "code",
   "execution_count": 28,
   "metadata": {},
   "outputs": [],
   "source": [
    "commitissue = pd.DataFrame({'Case ID': knownCommit,'Timestamp': commit['Date'],'Activity': commitMsg, 'Resource': commit['Author']})\n",
    "finalFrame = finalFrame.append(commitissue)"
   ]
  },
  {
   "cell_type": "code",
   "execution_count": 29,
   "metadata": {},
   "outputs": [],
   "source": [
    "finalFrame['Timestamp'] = pd.to_datetime(finalFrame['Timestamp'], utc=True)"
   ]
  },
  {
   "cell_type": "code",
   "execution_count": 30,
   "metadata": {},
   "outputs": [],
   "source": [
    "finalFrame.sort_values(by=['Timestamp'], inplace=True, ascending=True)"
   ]
  },
  {
   "cell_type": "code",
   "execution_count": 31,
   "metadata": {},
   "outputs": [],
   "source": [
    "os.chdir('..\\\\hasil')\n",
    "finalFrame.to_csv('xplore.csv', index=False)"
   ]
  }
 ],
 "metadata": {
  "kernelspec": {
   "display_name": "Python 3",
   "language": "python",
   "name": "python3"
  },
  "language_info": {
   "codemirror_mode": {
    "name": "ipython",
    "version": 3
   },
   "file_extension": ".py",
   "mimetype": "text/x-python",
   "name": "python",
   "nbconvert_exporter": "python",
   "pygments_lexer": "ipython3",
   "version": "3.7.4"
  }
 },
 "nbformat": 4,
 "nbformat_minor": 2
}
